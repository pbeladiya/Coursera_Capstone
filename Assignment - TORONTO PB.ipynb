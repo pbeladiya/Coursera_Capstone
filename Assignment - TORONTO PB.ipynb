{
    "cells": [
        {
            "cell_type": "code",
            "execution_count": 5,
            "metadata": {},
            "outputs": [
                {
                    "name": "stdout",
                    "output_type": "stream",
                    "text": "Requirement already satisfied: beautifulsoup4 in /opt/conda/envs/Python36/lib/python3.6/site-packages (4.7.1)\nRequirement already satisfied: soupsieve>=1.2 in /opt/conda/envs/Python36/lib/python3.6/site-packages (from beautifulsoup4) (1.7.1)\nLibraries imported.\n"
                }
            ],
            "source": "#IMPORT LIBRARIES\n\nimport numpy as np # library to handle data in a vectorized manner\n\nimport pandas as pd # library for data analsysis\npd.set_option('display.max_columns', None)\npd.set_option('display.max_rows', None)\n\nimport json # library to handle JSON files\n!pip -q install geopy\n#!conda install -c conda-forge geopy --yes # uncomment this line if you haven't completed the Foursquare API lab\nfrom geopy.geocoders import Nominatim # convert an address into latitude and longitude values\n\nimport requests # library to handle requests\nfrom pandas.io.json import json_normalize # tranform JSON file into a pandas dataframe\n\n# Matplotlib and associated plotting modules\nimport matplotlib.cm as cm\nimport matplotlib.colors as colors\n\n# import k-means from clustering stage\nfrom sklearn.cluster import KMeans\n\n!pip -q install folium\n#!conda install -c conda-forge folium=0.5.0 --yes # uncomment this line if you haven't completed the Foursquare API lab\nimport folium # map rendering library\n\n!pip install beautifulsoup4\n# Import Beautiful SOup Library for HTML Page Processing\nfrom bs4 import BeautifulSoup\n\nprint('Libraries imported.')"
        },
        {
            "cell_type": "code",
            "execution_count": 7,
            "metadata": {},
            "outputs": [],
            "source": "# DOwnoad HTML Wikipedia Page for Toronto POstal Codes \n!wget -q -O 'postalCodesCanada.html' https://en.wikipedia.org/wiki/List_of_postal_codes_of_Canada:_M"
        },
        {
            "cell_type": "markdown",
            "metadata": {},
            "source": "1. The dataframe will consist of three columns: PostalCode, Borough, and Neighborhood  \n2. Only process the cells that have an assigned borough. Ignore cells with a borough that is Not assigned.  \n3. More than one neighborhood can exist in one postal code area. For example, in the table on the Wikipedia page, you will notice that M5A is listed twice and has two neighborhoods: Harbourfront and Regent Park. These two rows will be combined into one row with the neighborhoods separated with a comma as shown in row 11 in the above table.  \n4. If a cell has a borough but a Not assigned neighborhood, then the neighborhood will be the same as the borough.  \n5. Clean your Notebook and add Markdown cells to explain your work and any assumptions you are making.  "
        },
        {
            "cell_type": "markdown",
            "metadata": {},
            "source": "##### Extract Table content from Wikipedia URL for Neighborhood Data"
        },
        {
            "cell_type": "code",
            "execution_count": 177,
            "metadata": {},
            "outputs": [
                {
                    "name": "stdout",
                    "output_type": "stream",
                    "text": "(287, 3)\n"
                },
                {
                    "data": {
                        "text/html": "<div>\n<style scoped>\n    .dataframe tbody tr th:only-of-type {\n        vertical-align: middle;\n    }\n\n    .dataframe tbody tr th {\n        vertical-align: top;\n    }\n\n    .dataframe thead th {\n        text-align: right;\n    }\n</style>\n<table border=\"1\" class=\"dataframe\">\n  <thead>\n    <tr style=\"text-align: right;\">\n      <th></th>\n      <th>0</th>\n      <th>1</th>\n      <th>2</th>\n    </tr>\n  </thead>\n  <tbody>\n    <tr>\n      <th>1</th>\n      <td>M1A</td>\n      <td>Not assigned</td>\n      <td>Not assigned</td>\n    </tr>\n    <tr>\n      <th>2</th>\n      <td>M2A</td>\n      <td>Not assigned</td>\n      <td>Not assigned</td>\n    </tr>\n    <tr>\n      <th>3</th>\n      <td>M3A</td>\n      <td>North York</td>\n      <td>Parkwoods</td>\n    </tr>\n    <tr>\n      <th>4</th>\n      <td>M4A</td>\n      <td>North York</td>\n      <td>Victoria Village</td>\n    </tr>\n    <tr>\n      <th>5</th>\n      <td>M5A</td>\n      <td>Downtown Toronto</td>\n      <td>Harbourfront</td>\n    </tr>\n  </tbody>\n</table>\n</div>",
                        "text/plain": "     0                 1                 2\n1  M1A      Not assigned     Not assigned\n\n2  M2A      Not assigned     Not assigned\n\n3  M3A        North York         Parkwoods\n4  M4A        North York  Victoria Village\n5  M5A  Downtown Toronto      Harbourfront"
                    },
                    "execution_count": 177,
                    "metadata": {},
                    "output_type": "execute_result"
                }
            ],
            "source": "# Get Data from Wikipedia\nwikiToronto = 'postalCodesCanada.html' \n\nwith open(wikiToronto) as fp:\n    soup = BeautifulSoup(fp)\n\ntable = soup.find_all(\"table\", class_ = \"wikitable sortable\")\n\nds = []\nj= 0\nfor tr in table[0].find_all('tr'):\n    R = []\n    i = 0\n    for td in tr.find_all('td'):\n        i = i+1\n        if str(td.contents[0]).find(\"href\") > 0:\n            text = td.find_all('a')[0].contents\n        else:\n            text = td.contents\n        R.append(text[0])\n    ds.append(R)\n    j = j+1\n\nTOR = pd.DataFrame(ds)\n\n#Remove Top Buffer Row\nTOR.drop(TOR.index[0],inplace = True)\n\n#Print Shape and DataSet\nprint(TOR.shape)\nTOR.head()"
        },
        {
            "cell_type": "markdown",
            "metadata": {},
            "source": "##### Modify the Data Frame as per Requirement"
        },
        {
            "cell_type": "code",
            "execution_count": 187,
            "metadata": {},
            "outputs": [
                {
                    "name": "stdout",
                    "output_type": "stream",
                    "text": "103\n"
                },
                {
                    "data": {
                        "text/html": "<div>\n<style scoped>\n    .dataframe tbody tr th:only-of-type {\n        vertical-align: middle;\n    }\n\n    .dataframe tbody tr th {\n        vertical-align: top;\n    }\n\n    .dataframe thead th {\n        text-align: right;\n    }\n</style>\n<table border=\"1\" class=\"dataframe\">\n  <thead>\n    <tr style=\"text-align: right;\">\n      <th></th>\n      <th>PostalCode</th>\n      <th>Borough</th>\n      <th>Neighborhood</th>\n    </tr>\n  </thead>\n  <tbody>\n    <tr>\n      <th>0</th>\n      <td>M3A</td>\n      <td>North York</td>\n      <td>Parkwoods</td>\n    </tr>\n    <tr>\n      <th>1</th>\n      <td>M4A</td>\n      <td>North York</td>\n      <td>Victoria Village</td>\n    </tr>\n    <tr>\n      <th>2</th>\n      <td>M5A</td>\n      <td>Downtown Toronto</td>\n      <td>Harbourfront</td>\n    </tr>\n    <tr>\n      <th>3</th>\n      <td>M6A</td>\n      <td>North York</td>\n      <td>Lawrence Heights, Lawrence Manor, Lawrence Hei...</td>\n    </tr>\n    <tr>\n      <th>4</th>\n      <td>M7A</td>\n      <td>Downtown Toronto</td>\n      <td>Queen's Park</td>\n    </tr>\n  </tbody>\n</table>\n</div>",
                        "text/plain": "  PostalCode           Borough  \\\n0        M3A        North York   \n1        M4A        North York   \n2        M5A  Downtown Toronto   \n3        M6A        North York   \n4        M7A  Downtown Toronto   \n\n                                        Neighborhood  \n0                                          Parkwoods  \n1                                   Victoria Village  \n2                                       Harbourfront  \n3  Lawrence Heights, Lawrence Manor, Lawrence Hei...  \n4                                       Queen's Park  "
                    },
                    "execution_count": 187,
                    "metadata": {},
                    "output_type": "execute_result"
                }
            ],
            "source": "#1 The dataframe will consist of three columns: PostalCode, Borough, and Neighborhood\ncolumns_ds_Toronto = ['PostalCode','Borough','Neighborhood']\nTOR.columns = columns_ds_Toronto\n\n#2 Only process the cells that have an assigned borough. Ignore cells with a borough that is Not assigned.\nTOR.drop(TOR[TOR['Borough'] == 'Not assigned'].index,inplace = True)\nTOR.reset_index(drop=True,inplace = True)\n\n#4 If a cell has a borough but a Not assigned neighborhood, then the neighborhood will be the same as the borough.\nTOR['Neighborhood'].loc[(TOR['Neighborhood']=='Not assigned')] = TOR['Borough'].loc[(TOR['Neighborhood']=='Not assigned')]\n\n#3 Combine neighborhood with same Postal Code. \nneigh_combined = pd.DataFrame(TOR.groupby('PostalCode')['Neighborhood'].apply(', '.join).reset_index())\n\nTOR = TOR.merge(neigh_combined,left_on = 'PostalCode',right_on = 'PostalCode')\n#Delete Old Neighborhood Column\ndel TOR['Neighborhood_x']\nTOR.columns = columns_ds_Toronto\n\n# Remove Duplicates\nTOR = TOR.drop_duplicates()\nprint(len(TOR['PostalCode'].unique()))\n\n#Clean Column Data\nTOR['Neighborhood'] = TOR['Neighborhood'].str.replace('\\n','')\n\nTOR.head()"
        },
        {
            "cell_type": "code",
            "execution_count": 186,
            "metadata": {},
            "outputs": [
                {
                    "name": "stdout",
                    "output_type": "stream",
                    "text": "Shape :  (103, 3)\n"
                }
            ],
            "source": "# Final Dataframe Shape\nprint('Shape : ',TOR.shape)"
        },
        {
            "cell_type": "code",
            "execution_count": null,
            "metadata": {},
            "outputs": [],
            "source": ""
        }
    ],
    "metadata": {
        "kernelspec": {
            "display_name": "Python 3.6",
            "language": "python",
            "name": "python3"
        },
        "language_info": {
            "codemirror_mode": {
                "name": "ipython",
                "version": 3
            },
            "file_extension": ".py",
            "mimetype": "text/x-python",
            "name": "python",
            "nbconvert_exporter": "python",
            "pygments_lexer": "ipython3",
            "version": "3.6.9"
        }
    },
    "nbformat": 4,
    "nbformat_minor": 1
}